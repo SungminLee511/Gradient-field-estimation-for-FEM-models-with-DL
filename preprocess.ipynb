{
 "cells": [
  {
   "cell_type": "code",
   "execution_count": 1,
   "metadata": {},
   "outputs": [],
   "source": [
    "import torch\n",
    "import h5py\n",
    "import yaml\n",
    "import os\n",
    "\n",
    "from torch_geometric.utils import to_undirected, add_self_loops\n",
    "\n",
    "from laplacian import *"
   ]
  },
  {
   "cell_type": "code",
   "execution_count": 2,
   "metadata": {},
   "outputs": [],
   "source": [
    "import sys\n",
    "import importlib.util\n",
    "\n",
    "solver_dir = \"/home/ubuntu/SML/solver\"\n",
    "\n",
    "sys.path.append(solver_dir)\n",
    "\n",
    "file_path = \"/home/ubuntu/SML/solver/solver.py\"\n",
    "spec = importlib.util.spec_from_file_location(\"solver\", file_path)\n",
    "solver = importlib.util.module_from_spec(spec)\n",
    "spec.loader.exec_module(solver)"
   ]
  },
  {
   "cell_type": "code",
   "execution_count": 3,
   "metadata": {},
   "outputs": [],
   "source": [
    "E = 113.8e9\n",
    "nu = 0.342\n",
    "rho = 4.47e-3"
   ]
  },
  {
   "cell_type": "code",
   "execution_count": 4,
   "metadata": {},
   "outputs": [],
   "source": [
    "device = \"cuda:2\"\n",
    "dtype = torch.float32"
   ]
  },
  {
   "cell_type": "code",
   "execution_count": 5,
   "metadata": {},
   "outputs": [
    {
     "name": "stdout",
     "output_type": "stream",
     "text": [
      "['sample_19.h5', 'sample_35.h5', 'sample_40.h5', 'sample_0.h5', 'sample_27.h5', 'sample_14.h5', 'sample_38.h5', 'sample_10.h5', 'sample_12.h5', 'sample_29.h5', 'sample_28.h5', 'sample_23.h5', 'sample_8.h5', 'sample_63.h5', 'sample_4.h5', 'sample_16.h5', 'sample_6.h5', 'sample_21.h5', 'sample_20.h5', 'sample_15.h5', 'sample_30.h5', 'sample_33.h5', 'sample_62.h5', 'sample_22.h5', 'sample_9.h5']\n"
     ]
    }
   ],
   "source": [
    "files = os.listdir(\"/data/SimJEB/small_ver_25/preprocessed/\")\n",
    "print(files)"
   ]
  },
  {
   "cell_type": "code",
   "execution_count": 6,
   "metadata": {},
   "outputs": [
    {
     "name": "stdout",
     "output_type": "stream",
     "text": [
      "20\n"
     ]
    }
   ],
   "source": [
    "i = 18\n",
    "\n",
    "idx = files[i].split('_')[1].split('.')[0]\n",
    "print(idx)\n",
    "\n",
    "with open(f'/data/SimJEB/boundary/{idx}.yaml') as file:\n",
    "    boundary = yaml.safe_load(file)\n",
    "\n",
    "with h5py.File(f\"/data/SimJEB/small_ver_25/preprocessed/\"+files[i], 'r') as f:\n",
    "    coords = torch.tensor(f['coords'][:])\n",
    "    elements = torch.tensor(f['elements'][:])\n",
    "    displacement = torch.tensor(f['outputs'][:])[:,0,:3]\n",
    "    stress = torch.tensor(f['outputs'][:])[:,0,-1] * 1e6   # scale unit (MPa to Pa)\n",
    "\n",
    "coords = coords.to(device=device, dtype=dtype)\n",
    "elements = elements.to(device=device, dtype=torch.int32)\n",
    "displacement = displacement.to(device=device, dtype=dtype)\n",
    "stress = stress.to(device=device, dtype=dtype)"
   ]
  },
  {
   "cell_type": "code",
   "execution_count": null,
   "metadata": {},
   "outputs": [
    {
     "name": "stdout",
     "output_type": "stream",
     "text": [
      "tensor([58.8687, 85.8151, 91.1977, 67.9958, 18.9751, 38.8002, 55.0404, 46.4024,\n",
      "        73.8338, 66.8318], device='cuda:0')\n",
      "tensor([262.5918, 360.7728, 289.8835, 450.8071, 211.8481, 252.5427, 428.1967,\n",
      "        474.8176, 363.8794, 215.3476], device='cuda:0')\n",
      "tensor([135.8052, 127.3035, 143.2776, 188.1649, 152.5815,  47.7730, 234.9525,\n",
      "        316.1298,  69.1931, 238.2103], device='cuda:0')\n",
      "3\r"
     ]
    },
    {
     "ename": "KeyboardInterrupt",
     "evalue": "",
     "output_type": "error",
     "traceback": [
      "\u001b[0;31m---------------------------------------------------------------------------\u001b[0m",
      "\u001b[0;31mKeyboardInterrupt\u001b[0m                         Traceback (most recent call last)",
      "Cell \u001b[0;32mIn[11], line 24\u001b[0m\n\u001b[1;32m     20\u001b[0m coord_gradient \u001b[38;5;241m=\u001b[39m compute_target_gradient(coords, edge) \u001b[38;5;66;03m# [E, 3]\u001b[39;00m\n\u001b[1;32m     22\u001b[0m displacement_gradient \u001b[38;5;241m=\u001b[39m compute_target_gradient(displacement, edge) \u001b[38;5;66;03m# [E, 3]\u001b[39;00m\n\u001b[0;32m---> 24\u001b[0m edge_edge \u001b[38;5;241m=\u001b[39m \u001b[43mcompute_edge_edge\u001b[49m\u001b[43m(\u001b[49m\u001b[43mtetra_edge_id\u001b[49m\u001b[43m,\u001b[49m\u001b[43m \u001b[49m\u001b[43mdevice\u001b[49m\u001b[43m)\u001b[49m \u001b[38;5;66;03m# [E', 2]\u001b[39;00m\n\u001b[1;32m     26\u001b[0m rbe2_list \u001b[38;5;241m=\u001b[39m [rbe2[\u001b[38;5;124m'\u001b[39m\u001b[38;5;124mslaves\u001b[39m\u001b[38;5;124m'\u001b[39m] \u001b[38;5;28;01mfor\u001b[39;00m rbe2 \u001b[38;5;129;01min\u001b[39;00m boundary[\u001b[38;5;124m'\u001b[39m\u001b[38;5;124mrbe2\u001b[39m\u001b[38;5;124m'\u001b[39m]]\n\u001b[1;32m     27\u001b[0m rbe3_list \u001b[38;5;241m=\u001b[39m [rbe3[\u001b[38;5;124m'\u001b[39m\u001b[38;5;124mslaves\u001b[39m\u001b[38;5;124m'\u001b[39m] \u001b[38;5;28;01mfor\u001b[39;00m rbe3 \u001b[38;5;129;01min\u001b[39;00m boundary[\u001b[38;5;124m'\u001b[39m\u001b[38;5;124mrbe3\u001b[39m\u001b[38;5;124m'\u001b[39m]]\n",
      "File \u001b[0;32m~/SML/SimJEB/laplacian/laplacian.py:62\u001b[0m, in \u001b[0;36mcompute_edge_edge\u001b[0;34m(tetra_edge_id, device)\u001b[0m\n\u001b[1;32m     58\u001b[0m     tet_orientations \u001b[38;5;241m=\u001b[39m orientations_flat\u001b[38;5;241m.\u001b[39mview(M, \u001b[38;5;241m6\u001b[39m)\n\u001b[1;32m     60\u001b[0m     \u001b[38;5;28;01mreturn\u001b[39;00m unique_edges, tet_edge_ids, tet_orientations \u001b[38;5;66;03m# [E,2], [M,6], [M,6]\u001b[39;00m\n\u001b[0;32m---> 62\u001b[0m \u001b[38;5;28;01mdef\u001b[39;00m \u001b[38;5;21mcompute_edge_edge\u001b[39m(tetra_edge_id, device\u001b[38;5;241m=\u001b[39m\u001b[38;5;124m\"\u001b[39m\u001b[38;5;124mcuda:0\u001b[39m\u001b[38;5;124m\"\u001b[39m):\n\u001b[1;32m     63\u001b[0m     edge_edge \u001b[38;5;241m=\u001b[39m tetra_edge_id[:, [[\u001b[38;5;241m0\u001b[39m, \u001b[38;5;241m1\u001b[39m], [\u001b[38;5;241m0\u001b[39m, \u001b[38;5;241m2\u001b[39m], [\u001b[38;5;241m0\u001b[39m, \u001b[38;5;241m3\u001b[39m], [\u001b[38;5;241m0\u001b[39m, \u001b[38;5;241m5\u001b[39m], [\u001b[38;5;241m1\u001b[39m, \u001b[38;5;241m2\u001b[39m], [\u001b[38;5;241m1\u001b[39m, \u001b[38;5;241m3\u001b[39m], [\u001b[38;5;241m1\u001b[39m, \u001b[38;5;241m4\u001b[39m], [\u001b[38;5;241m2\u001b[39m, \u001b[38;5;241m4\u001b[39m], [\u001b[38;5;241m2\u001b[39m, \u001b[38;5;241m5\u001b[39m], [\u001b[38;5;241m3\u001b[39m, \u001b[38;5;241m4\u001b[39m], [\u001b[38;5;241m3\u001b[39m, \u001b[38;5;241m5\u001b[39m], [\u001b[38;5;241m4\u001b[39m, \u001b[38;5;241m5\u001b[39m]]]\n\u001b[1;32m     64\u001b[0m     edge_edge \u001b[38;5;241m=\u001b[39m edge_edge\u001b[38;5;241m.\u001b[39mview(\u001b[38;5;241m-\u001b[39m\u001b[38;5;241m1\u001b[39m, \u001b[38;5;241m2\u001b[39m)  \u001b[38;5;66;03m# [M, 2]\u001b[39;00m\n",
      "\u001b[0;31mKeyboardInterrupt\u001b[0m: "
     ]
    }
   ],
   "source": [
    "for i in range(len(files)):\n",
    "    print(i,end=\"\\r\")\n",
    "    idx = files[i].split('_')[1].split('.')[0]\n",
    "\n",
    "    with open(f'/data/SimJEB/boundary/{idx}.yaml') as file:\n",
    "        boundary = yaml.safe_load(file)\n",
    "\n",
    "    with h5py.File(f\"/data/SimJEB/small_ver_25/preprocessed/sample_{idx}.h5\", 'r') as f:\n",
    "        coords = torch.tensor(f['coords'][:])\n",
    "        elements = torch.tensor(f['elements'][:])\n",
    "        displacement = torch.tensor(f['outputs'][:])[:,0,:3]\n",
    "        stress = torch.tensor(f['outputs'][:])[:,0,-1]\n",
    "\n",
    "    coords = coords.to(device=device, dtype=dtype)\n",
    "    elements = elements.to(device=device, dtype=torch.int32)\n",
    "    displacement = displacement.to(device=device, dtype=dtype)\n",
    "    stress = stress.to(device=device, dtype=dtype)\n",
    "\n",
    "    edge, tetra_edge_id, tetra_edge_orientation = tetrahedral_to_full_edge_data(elements, device)\n",
    "    coord_gradient = compute_target_gradient(coords, edge) # [E, 3]\n",
    "\n",
    "    displacement_gradient = compute_target_gradient(displacement, edge) # [E, 3]\n",
    "\n",
    "    edge_edge = compute_edge_edge(tetra_edge_id, device) # [E', 2]\n",
    "\n",
    "    rbe2_list = [rbe2['slaves'] for rbe2 in boundary['rbe2']]\n",
    "    rbe3_list = [rbe3['slaves'] for rbe3 in boundary['rbe3']]\n",
    "    edge_rbe2_mask_list = []\n",
    "    edge_rbe3_mask_list = []\n",
    "    for rbe2 in rbe2_list:\n",
    "        rbe2_ids = torch.tensor(rbe2, device=device)\n",
    "        mask = torch.isin(edge[:, 0], rbe2_ids) & torch.isin(edge[:, 1], rbe2_ids)\n",
    "        edge_rbe2_mask = torch.zeros(edge.shape[0], dtype=torch.bool, device=device)\n",
    "        edge_rbe2_mask |= mask\n",
    "        edge_rbe2_mask_list.append(mask)\n",
    "    for rbe3 in rbe3_list:\n",
    "        rbe3_ids = torch.tensor(rbe3, device=device)\n",
    "        mask = torch.isin(edge[:, 0], rbe3_ids) & torch.isin(edge[:, 1], rbe3_ids)\n",
    "        edge_rbe3_mask = torch.zeros(edge.shape[0], dtype=torch.bool, device=device)\n",
    "        edge_rbe3_mask |= mask\n",
    "        edge_rbe3_mask_list.append(mask)\n",
    "\n",
    "    edge_length = torch.norm(coord_gradient, dim=-1) # [E]\n",
    "    rbe2_hop_length = []\n",
    "    for i in range(len(edge_rbe2_mask_list)):\n",
    "        hop_length = compute_length_sum_for_edge(edge_edge, edge.shape[0], edge_rbe2_mask_list[i], edge_length, device)\n",
    "        rbe2_hop_length.append(hop_length)\n",
    "    rbe3_hop_length = []\n",
    "    for i in range(len(edge_rbe3_mask_list)):\n",
    "        hop_length = compute_length_sum_for_edge(edge_edge, edge.shape[0], edge_rbe3_mask_list[i], edge_length, device)\n",
    "        rbe3_hop_length.append(hop_length)\n",
    "    rbe2_hop_length = torch.exp(torch.log(torch.stack(rbe2_hop_length, dim=0)).mean(dim=0)) # [E]\n",
    "    rbe3_hop_length = torch.exp(torch.log(torch.stack(rbe3_hop_length, dim=0)).mean(dim=0)) # [E]\n",
    "\n",
    "    x = torch.cat([coord_gradient, edge_length.unsqueeze(-1)], dim=-1) # [E, 4]\n",
    "    bc = torch.cat([rbe2_hop_length.unsqueeze(-1), rbe3_hop_length.unsqueeze(-1)], dim=-1) # [E, 2]\n",
    "    edge_index = add_self_loops(edge_edge.transpose(0, 1))[0] # [2, E']\n",
    "    edge_weight = torch.ones(edge_index.shape[1], device=device) # [E']\n",
    "    y = displacement_gradient # [E, 3]\n",
    "\n",
    "    element_vm_stress = solver.compute_element_stress(coords, elements, displacement, E, nu, \"c3d4\", device)[1] / 1e6\n",
    "\n",
    "    with h5py.File(f\"/data/SimJEB/laplacian/{idx}.h5\", 'w') as f:\n",
    "        x = f.create_dataset('x', data=x.cpu().numpy())\n",
    "        bc = f.create_dataset('bc', data=bc.cpu().numpy())\n",
    "        edge_index = f.create_dataset('edge_index', data=edge_index.cpu().numpy())\n",
    "        edge_weight = f.create_dataset('edge_weight', data=edge_weight.cpu().numpy())\n",
    "        y = f.create_dataset('y', data=y.cpu().numpy())\n",
    "        stress = f.create_dataset('stress', data=stress.cpu().numpy())\n",
    "        tetra_edge_id = f.create_dataset('tetra_edge_id', data=tetra_edge_id.cpu().numpy())\n",
    "        tetra_edge_orientation = f.create_dataset('tetra_edge_orientation', data=tetra_edge_orientation.cpu().numpy())\n",
    "        coords = f.create_dataset('coords', data=coords.cpu().numpy())\n",
    "        elements = f.create_dataset('elements', data=elements.cpu().numpy())\n",
    "        edge = f.create_dataset('edge', data=edge.cpu().numpy())\n",
    "        displacement = f.create_dataset('displacement', data=displacement.cpu().numpy())\n",
    "        element_vm_stress = f.create_dataset('element_vm_stress', data=element_vm_stress.cpu().numpy())"
   ]
  },
  {
   "cell_type": "code",
   "execution_count": null,
   "metadata": {},
   "outputs": [],
   "source": []
  }
 ],
 "metadata": {
  "kernelspec": {
   "display_name": "pt24_py311",
   "language": "python",
   "name": "python3"
  },
  "language_info": {
   "codemirror_mode": {
    "name": "ipython",
    "version": 3
   },
   "file_extension": ".py",
   "mimetype": "text/x-python",
   "name": "python",
   "nbconvert_exporter": "python",
   "pygments_lexer": "ipython3",
   "version": "3.11.10"
  }
 },
 "nbformat": 4,
 "nbformat_minor": 2
}
