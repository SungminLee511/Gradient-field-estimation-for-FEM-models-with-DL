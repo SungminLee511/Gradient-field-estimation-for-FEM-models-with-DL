{
 "cells": [
  {
   "cell_type": "code",
   "execution_count": 1,
   "metadata": {},
   "outputs": [],
   "source": [
    "import torch\n",
    "import h5py\n",
    "import yaml\n",
    "import os\n",
    "\n",
    "from laplacian import *"
   ]
  },
  {
   "cell_type": "code",
   "execution_count": 2,
   "metadata": {},
   "outputs": [],
   "source": [
    "import sys\n",
    "import importlib.util\n",
    "\n",
    "solver_dir = \"/home/ubuntu/SML/solver\"\n",
    "\n",
    "sys.path.append(solver_dir)\n",
    "\n",
    "file_path = \"/home/ubuntu/SML/solver/solver.py\"\n",
    "spec = importlib.util.spec_from_file_location(\"solver\", file_path)\n",
    "solver = importlib.util.module_from_spec(spec)\n",
    "spec.loader.exec_module(solver)"
   ]
  },
  {
   "cell_type": "code",
   "execution_count": 3,
   "metadata": {},
   "outputs": [],
   "source": [
    "E = 113.8e9\n",
    "nu = 0.342\n",
    "rho = 4.47e-3"
   ]
  },
  {
   "cell_type": "code",
   "execution_count": 4,
   "metadata": {},
   "outputs": [],
   "source": [
    "device = \"cuda:2\"\n",
    "dtype = torch.float32"
   ]
  },
  {
   "cell_type": "code",
   "execution_count": 5,
   "metadata": {},
   "outputs": [
    {
     "name": "stdout",
     "output_type": "stream",
     "text": [
      "['sample_19.h5', 'sample_35.h5', 'sample_40.h5', 'sample_0.h5', 'sample_27.h5', 'sample_14.h5', 'sample_38.h5', 'sample_10.h5', 'sample_12.h5', 'sample_29.h5', 'sample_28.h5', 'sample_23.h5', 'sample_8.h5', 'sample_63.h5', 'sample_4.h5', 'sample_16.h5', 'sample_6.h5', 'sample_21.h5', 'sample_20.h5', 'sample_15.h5', 'sample_30.h5', 'sample_33.h5', 'sample_62.h5', 'sample_22.h5', 'sample_9.h5']\n"
     ]
    }
   ],
   "source": [
    "files = os.listdir(\"/data/SimJEB/small_ver_25/preprocessed/\")\n",
    "print(files)"
   ]
  },
  {
   "cell_type": "code",
   "execution_count": 6,
   "metadata": {},
   "outputs": [
    {
     "name": "stdout",
     "output_type": "stream",
     "text": [
      "20\n"
     ]
    }
   ],
   "source": [
    "i = 18\n",
    "\n",
    "idx = files[i].split('_')[1].split('.')[0]\n",
    "print(idx)\n",
    "\n",
    "with open(f'/data/SimJEB/boundary/{idx}.yaml') as file:\n",
    "    boundary = yaml.safe_load(file)\n",
    "\n",
    "with h5py.File(f\"/data/SimJEB/small_ver_25/preprocessed/\"+files[i], 'r') as f:\n",
    "    coords = torch.tensor(f['coords'][:])\n",
    "    elements = torch.tensor(f['elements'][:])\n",
    "    displacement = torch.tensor(f['outputs'][:])[:,0,:3]\n",
    "    stress = torch.tensor(f['outputs'][:])[:,0,-1] * 1e6   # scale unit (MPa to Pa)\n",
    "\n",
    "coords = coords.to(device=device, dtype=dtype)\n",
    "elements = elements.to(device=device, dtype=torch.int32)\n",
    "displacement = displacement.to(device=device, dtype=dtype)\n",
    "stress = stress.to(device=device, dtype=dtype)"
   ]
  },
  {
   "cell_type": "code",
   "execution_count": 7,
   "metadata": {},
   "outputs": [
    {
     "name": "stdout",
     "output_type": "stream",
     "text": [
      "torch.Size([57168, 3]) torch.Size([267823, 4]) torch.Size([57168, 3]) torch.Size([57168])\n"
     ]
    }
   ],
   "source": [
    "print(coords.shape, elements.shape, displacement.shape, stress.shape)"
   ]
  },
  {
   "cell_type": "code",
   "execution_count": 8,
   "metadata": {},
   "outputs": [
    {
     "name": "stdout",
     "output_type": "stream",
     "text": [
      "torch.Size([352667, 2]) torch.Size([267823, 6]) torch.Size([267823, 6])\n"
     ]
    }
   ],
   "source": [
    "edge, tetra_edge_id, tetra_edge_orientation = tetrahedral_to_full_edge_data(elements, device)\n",
    "print(edge.shape, tetra_edge_id.shape, tetra_edge_orientation.shape)"
   ]
  },
  {
   "cell_type": "code",
   "execution_count": 9,
   "metadata": {},
   "outputs": [
    {
     "name": "stdout",
     "output_type": "stream",
     "text": [
      "torch.Size([352667, 3])\n"
     ]
    }
   ],
   "source": [
    "coord_gradient = compute_target_gradient(coords, edge)\n",
    "print(coord_gradient.shape)"
   ]
  },
  {
   "cell_type": "code",
   "execution_count": 10,
   "metadata": {},
   "outputs": [
    {
     "name": "stdout",
     "output_type": "stream",
     "text": [
      "torch.Size([1071292, 3])\n"
     ]
    }
   ],
   "source": [
    "loss = compute_gradient_field_loop_conservation_loss(coord_gradient, tetra_edge_id, tetra_edge_orientation, device, dtype)\n",
    "print(loss.shape)"
   ]
  },
  {
   "cell_type": "code",
   "execution_count": 11,
   "metadata": {},
   "outputs": [],
   "source": [
    "element_vm_stress_calculated = solver.compute_element_stress(coords, elements, displacement, E, nu, \"c3d4\", device, dtype)[1]"
   ]
  },
  {
   "cell_type": "code",
   "execution_count": 12,
   "metadata": {},
   "outputs": [],
   "source": [
    "node_vm_stress_calculated = solver.compute_node_vm_stress(coords, elements, element_vm_stress_calculated, device, dtype)"
   ]
  },
  {
   "cell_type": "code",
   "execution_count": 13,
   "metadata": {},
   "outputs": [],
   "source": [
    "# solver.visualize_node_with_value(coords, stress)"
   ]
  },
  {
   "cell_type": "code",
   "execution_count": 14,
   "metadata": {},
   "outputs": [],
   "source": [
    "displacement_gradient = compute_target_gradient(displacement, edge)"
   ]
  },
  {
   "cell_type": "code",
   "execution_count": 15,
   "metadata": {},
   "outputs": [
    {
     "name": "stdout",
     "output_type": "stream",
     "text": [
      "torch.Size([267823])\n"
     ]
    }
   ],
   "source": [
    "element_vm_stress_calculated_laplacian = compute_element_stress_by_displacement_gradient(coords, elements, displacement_gradient, tetra_edge_id, tetra_edge_orientation, E, nu, device, dtype)[1]\n",
    "print(element_vm_stress_calculated_laplacian.shape)"
   ]
  },
  {
   "cell_type": "code",
   "execution_count": 16,
   "metadata": {},
   "outputs": [],
   "source": [
    "node_vm_stress_calculated_laplacian = solver.compute_node_vm_stress(coords, elements, element_vm_stress_calculated_laplacian, device, dtype)"
   ]
  },
  {
   "cell_type": "code",
   "execution_count": 17,
   "metadata": {},
   "outputs": [],
   "source": [
    "# solver.visualize_node_with_value(coords, node_vm_stress_calculated_laplacian)"
   ]
  },
  {
   "cell_type": "code",
   "execution_count": 18,
   "metadata": {},
   "outputs": [
    {
     "name": "stdout",
     "output_type": "stream",
     "text": [
      "Free memory on cuda:2: 77.98 GB\n",
      "Total memory on cuda:2: 79.15 GB\n"
     ]
    }
   ],
   "source": [
    "free_mem, total_mem = torch.cuda.mem_get_info(device)\n",
    "print(f\"Free memory on {device}: {free_mem / (1024**3):.2f} GB\")\n",
    "print(f\"Total memory on {device}: {total_mem / (1024**3):.2f} GB\")"
   ]
  },
  {
   "cell_type": "code",
   "execution_count": 19,
   "metadata": {},
   "outputs": [
    {
     "name": "stdout",
     "output_type": "stream",
     "text": [
      "torch.Size([57168, 3])\n"
     ]
    }
   ],
   "source": [
    "coords_recovered = recover_nodal_field_spanning_tree(edge, coord_gradient, coords.shape[0], torch.tensor([0]), device)\n",
    "print(coords_recovered.shape)"
   ]
  },
  {
   "cell_type": "code",
   "execution_count": 20,
   "metadata": {},
   "outputs": [],
   "source": [
    "displacement_recovered = recover_nodal_field_spanning_tree(edge, displacement_gradient, coords.shape[0], torch.tensor([0]), device)\n",
    "element_stress_recovered = solver.compute_element_stress(coords, elements, displacement_recovered, E, nu, \"c3d4\", device, dtype)[1]\n",
    "node_vm_stress_recovered = solver.compute_node_vm_stress(coords, elements, element_stress_recovered, device, dtype)"
   ]
  },
  {
   "cell_type": "code",
   "execution_count": 21,
   "metadata": {},
   "outputs": [],
   "source": [
    "# solver.visualize_node_with_value(coords_recovered, node_vm_stress_recovered, title=\"Recovered Coords, with vm stress calculated from recovered displacement\")"
   ]
  },
  {
   "cell_type": "code",
   "execution_count": 22,
   "metadata": {},
   "outputs": [
    {
     "name": "stdout",
     "output_type": "stream",
     "text": [
      "torch.Size([2034603, 2])\n"
     ]
    }
   ],
   "source": [
    "edge_edge = compute_edge_edge(tetra_edge_id, device)\n",
    "print(edge_edge.shape)"
   ]
  },
  {
   "cell_type": "code",
   "execution_count": 23,
   "metadata": {},
   "outputs": [],
   "source": [
    "edge_centroid = coords[edge].mean(dim=1)\n",
    "\n",
    "rbe2_list = [rbe2['slaves'] for rbe2 in boundary['rbe2']]\n",
    "rbe3_list = [rbe3['slaves'] for rbe3 in boundary['rbe3']]\n",
    "edge_rbe2_mask_list = []\n",
    "edge_rbe3_mask_list = []\n",
    "for rbe2 in rbe2_list:\n",
    "    rbe2_ids = torch.tensor(rbe2, device=device)\n",
    "    mask = torch.isin(edge[:, 0], rbe2_ids) & torch.isin(edge[:, 1], rbe2_ids)\n",
    "    edge_rbe2_mask = torch.zeros(edge.shape[0], dtype=torch.bool, device=device)\n",
    "    edge_rbe2_mask |= mask\n",
    "    edge_rbe2_mask_list.append(mask)\n",
    "for rbe3 in rbe3_list:\n",
    "    rbe3_ids = torch.tensor(rbe3, device=device)\n",
    "    mask = torch.isin(edge[:, 0], rbe3_ids) & torch.isin(edge[:, 1], rbe3_ids)\n",
    "    edge_rbe3_mask = torch.zeros(edge.shape[0], dtype=torch.bool, device=device)\n",
    "    edge_rbe3_mask |= mask\n",
    "    edge_rbe3_mask_list.append(mask)"
   ]
  },
  {
   "cell_type": "code",
   "execution_count": 24,
   "metadata": {},
   "outputs": [],
   "source": [
    "# solver.visualize_target_nodes(edge_centroid[edge_rbe2_mask_list[0]], marker_size=5, target_marker_size=5)"
   ]
  },
  {
   "cell_type": "code",
   "execution_count": 25,
   "metadata": {},
   "outputs": [
    {
     "name": "stdout",
     "output_type": "stream",
     "text": [
      "torch.Size([352667])\n"
     ]
    }
   ],
   "source": [
    "hop = compute_hop_iteration_for_edge(edge_edge, edge.shape[0], edge_rbe2_mask_list[0], device)\n",
    "print(hop.shape)"
   ]
  },
  {
   "cell_type": "code",
   "execution_count": 26,
   "metadata": {},
   "outputs": [
    {
     "name": "stdout",
     "output_type": "stream",
     "text": [
      "torch.Size([352667])\n"
     ]
    }
   ],
   "source": [
    "edge_length = torch.norm(coord_gradient, dim=-1)\n",
    "hop_length = compute_length_sum_for_edge(edge_edge, edge.shape[0], edge_rbe2_mask_list[0], edge_length, device)\n",
    "print(hop_length.shape)"
   ]
  },
  {
   "cell_type": "code",
   "execution_count": 27,
   "metadata": {},
   "outputs": [
    {
     "name": "stdout",
     "output_type": "stream",
     "text": [
      "torch.Size([352667])\n",
      "torch.Size([352667])\n"
     ]
    }
   ],
   "source": [
    "rbe2_hop_length = []\n",
    "for i in range(len(edge_rbe2_mask_list)):\n",
    "    hop_length = compute_length_sum_for_edge(edge_edge, edge.shape[0], edge_rbe2_mask_list[i], edge_length, device)\n",
    "    rbe2_hop_length.append(hop_length)\n",
    "rbe3_hop_length = []\n",
    "for i in range(len(edge_rbe3_mask_list)):\n",
    "    hop_length = compute_length_sum_for_edge(edge_edge, edge.shape[0], edge_rbe3_mask_list[i], edge_length, device)\n",
    "    rbe3_hop_length.append(hop_length)\n",
    "rbe2_hop_length = torch.exp(torch.log(torch.stack(rbe2_hop_length, dim=0)).mean(dim=0))\n",
    "rbe3_hop_length = torch.exp(torch.log(torch.stack(rbe3_hop_length, dim=0)).mean(dim=0))\n",
    "print(rbe2_hop_length.shape)\n",
    "print(rbe3_hop_length.shape)"
   ]
  },
  {
   "cell_type": "code",
   "execution_count": 28,
   "metadata": {},
   "outputs": [
    {
     "name": "stdout",
     "output_type": "stream",
     "text": [
      "torch.Size([352667, 4])\n"
     ]
    }
   ],
   "source": [
    "x = torch.cat([coord_gradient, edge_length.unsqueeze(-1)], dim=-1)\n",
    "print(x.shape)"
   ]
  },
  {
   "cell_type": "code",
   "execution_count": 35,
   "metadata": {},
   "outputs": [],
   "source": [
    "# solver.visualize_node_with_value(edge_centroid, hop_length, title=\"Edge domain hop lnength from RBE2 0\")"
   ]
  },
  {
   "cell_type": "code",
   "execution_count": null,
   "metadata": {},
   "outputs": [],
   "source": []
  }
 ],
 "metadata": {
  "kernelspec": {
   "display_name": "pt24_py311",
   "language": "python",
   "name": "python3"
  },
  "language_info": {
   "codemirror_mode": {
    "name": "ipython",
    "version": 3
   },
   "file_extension": ".py",
   "mimetype": "text/x-python",
   "name": "python",
   "nbconvert_exporter": "python",
   "pygments_lexer": "ipython3",
   "version": "3.11.10"
  }
 },
 "nbformat": 4,
 "nbformat_minor": 2
}
